{
 "cells": [
  {
   "cell_type": "markdown",
   "id": "02be96b7-f88d-4b3a-84f4-dd49111a500b",
   "metadata": {},
   "source": [
    "# フィボナッチ数列を題材に再起関数、デコレータを復習する。"
   ]
  },
  {
   "cell_type": "markdown",
   "id": "d54d449b-eb61-479b-8ede-1c6018f514ef",
   "metadata": {},
   "source": [
    "## 0, 1, 1, 2, 3, 5, 8, ?"
   ]
  },
  {
   "cell_type": "markdown",
   "id": "64736cc2-a2b7-4935-accb-ffb359ddcdb1",
   "metadata": {},
   "source": [
    "これはフィボナッチ数列というもので第n項をf(n)であらわすと、"
   ]
  },
  {
   "cell_type": "markdown",
   "id": "965b572b-609f-4a9e-ae77-6c624016e15d",
   "metadata": {},
   "source": [
    "## f(n) = f(n-1) + f(n-2) "
   ]
  },
  {
   "cell_type": "markdown",
   "id": "3a7f2a6f-e183-489f-a316-b042dc388044",
   "metadata": {},
   "source": [
    "これを題材に再帰関数、デコレーターを学ぶ。"
   ]
  },
  {
   "cell_type": "markdown",
   "id": "88e62a03-e850-4e47-b44d-8aa1b5924af2",
   "metadata": {},
   "source": [
    "### 前提について整理"
   ]
  },
  {
   "cell_type": "markdown",
   "id": "1b079ecb-d663-4775-af97-d0038e5ff857",
   "metadata": {},
   "source": [
    "- 第0項は0、第1項は1\n",
    "- 一般項f(n) を求める関数を作成する。つまり、ある関数に対してprint(f(10))とすると、フィボナッチ数列の第10項目が表示される。"
   ]
  },
  {
   "cell_type": "markdown",
   "id": "23e203ea-bcf8-4ea4-bab9-220833e3a5f8",
   "metadata": {},
   "source": [
    "漸化式f(n) = f(n-1) + f(n-2) をそのままPythonのコードにしてみる。<br>このように、関数内でその関数を呼び出すものを再帰関数という。"
   ]
  },
  {
   "cell_type": "code",
   "execution_count": 3,
   "id": "bfde52c4-e16a-426e-a913-a68089b63ca8",
   "metadata": {},
   "outputs": [],
   "source": [
    "def f1(n):\n",
    "    return f1(n-1) + f1(n-2)"
   ]
  },
  {
   "cell_type": "code",
   "execution_count": 4,
   "id": "ca171476-2ecb-4c6f-96e4-4a32bcb410eb",
   "metadata": {},
   "outputs": [
    {
     "ename": "RecursionError",
     "evalue": "maximum recursion depth exceeded",
     "output_type": "error",
     "traceback": [
      "\u001b[1;31m---------------------------------------------------------------------------\u001b[0m",
      "\u001b[1;31mRecursionError\u001b[0m                            Traceback (most recent call last)",
      "\u001b[1;32m<ipython-input-4-db0f80b394ed>\u001b[0m in \u001b[0;36m<module>\u001b[1;34m\u001b[0m\n\u001b[1;32m----> 1\u001b[1;33m \u001b[0mf1\u001b[0m\u001b[1;33m(\u001b[0m\u001b[1;36m3\u001b[0m\u001b[1;33m)\u001b[0m\u001b[1;33m\u001b[0m\u001b[1;33m\u001b[0m\u001b[0m\n\u001b[0m",
      "\u001b[1;32m<ipython-input-3-94cb601fa1df>\u001b[0m in \u001b[0;36mf1\u001b[1;34m(n)\u001b[0m\n\u001b[0;32m      1\u001b[0m \u001b[1;32mdef\u001b[0m \u001b[0mf1\u001b[0m\u001b[1;33m(\u001b[0m\u001b[0mn\u001b[0m\u001b[1;33m)\u001b[0m\u001b[1;33m:\u001b[0m\u001b[1;33m\u001b[0m\u001b[1;33m\u001b[0m\u001b[0m\n\u001b[1;32m----> 2\u001b[1;33m     \u001b[1;32mreturn\u001b[0m \u001b[0mf1\u001b[0m\u001b[1;33m(\u001b[0m\u001b[0mn\u001b[0m\u001b[1;33m-\u001b[0m\u001b[1;36m1\u001b[0m\u001b[1;33m)\u001b[0m \u001b[1;33m+\u001b[0m \u001b[0mf1\u001b[0m\u001b[1;33m(\u001b[0m\u001b[0mn\u001b[0m\u001b[1;33m-\u001b[0m\u001b[1;36m2\u001b[0m\u001b[1;33m)\u001b[0m\u001b[1;33m\u001b[0m\u001b[1;33m\u001b[0m\u001b[0m\n\u001b[0m",
      "... last 1 frames repeated, from the frame below ...\n",
      "\u001b[1;32m<ipython-input-3-94cb601fa1df>\u001b[0m in \u001b[0;36mf1\u001b[1;34m(n)\u001b[0m\n\u001b[0;32m      1\u001b[0m \u001b[1;32mdef\u001b[0m \u001b[0mf1\u001b[0m\u001b[1;33m(\u001b[0m\u001b[0mn\u001b[0m\u001b[1;33m)\u001b[0m\u001b[1;33m:\u001b[0m\u001b[1;33m\u001b[0m\u001b[1;33m\u001b[0m\u001b[0m\n\u001b[1;32m----> 2\u001b[1;33m     \u001b[1;32mreturn\u001b[0m \u001b[0mf1\u001b[0m\u001b[1;33m(\u001b[0m\u001b[0mn\u001b[0m\u001b[1;33m-\u001b[0m\u001b[1;36m1\u001b[0m\u001b[1;33m)\u001b[0m \u001b[1;33m+\u001b[0m \u001b[0mf1\u001b[0m\u001b[1;33m(\u001b[0m\u001b[0mn\u001b[0m\u001b[1;33m-\u001b[0m\u001b[1;36m2\u001b[0m\u001b[1;33m)\u001b[0m\u001b[1;33m\u001b[0m\u001b[1;33m\u001b[0m\u001b[0m\n\u001b[0m",
      "\u001b[1;31mRecursionError\u001b[0m: maximum recursion depth exceeded"
     ]
    }
   ],
   "source": [
    "f1(3)"
   ]
  },
  {
   "cell_type": "markdown",
   "id": "3102d1e3-f1b3-4780-b3c9-e7b73e1668a5",
   "metadata": {},
   "source": [
    "maximum recursion depth exceeded が出て終了している"
   ]
  },
  {
   "cell_type": "code",
   "execution_count": 5,
   "id": "6f120d2a-bd3d-441b-abe6-9a9dc40b36c5",
   "metadata": {},
   "outputs": [],
   "source": [
    "def f2(n):\n",
    "    if n < 2:\n",
    "        return n\n",
    "    return f2(n-1) + f2(n-2)"
   ]
  },
  {
   "cell_type": "code",
   "execution_count": 23,
   "id": "bc6464f8-8397-47a6-80ee-e951cfc4417e",
   "metadata": {},
   "outputs": [
    {
     "data": {
      "text/plain": [
       "9227465"
      ]
     },
     "execution_count": 23,
     "metadata": {},
     "output_type": "execute_result"
    }
   ],
   "source": [
    "f2(35)"
   ]
  },
  {
   "cell_type": "markdown",
   "id": "8885cb63-4ae1-4252-b668-ff684511bf1f",
   "metadata": {},
   "source": [
    "この記法だと、指数関数的に演算量が増えていく。"
   ]
  },
  {
   "cell_type": "code",
   "execution_count": 24,
   "id": "2f02139c-8430-475f-a2b4-ac7e426f305a",
   "metadata": {},
   "outputs": [],
   "source": [
    "result_f2 = []\n",
    "for n in range(35):\n",
    "    result = %timeit -n1 -r1 -o -q f2(n)\n",
    "    result_f2.append(result.best)"
   ]
  },
  {
   "cell_type": "code",
   "execution_count": 25,
   "id": "6cc4fc46-2bb1-4abd-bc10-406a669fcfcb",
   "metadata": {},
   "outputs": [
    {
     "data": {
      "image/png": "[encoded data removed]",
      "text/plain": [
       "<Figure size 864x576 with 1 Axes>"
      ]
     },
     "metadata": {},
     "output_type": "display_data"
    }
   ],
   "source": [
    "import matplotlib.pyplot as plt\n",
    "import seaborn as sns\n",
    "sns.set()\n",
    "\n",
    "plt.figure(figsize=(12,8))\n",
    "plt.scatter(range(35), result_f2)\n",
    "plt.show()"
   ]
  },
  {
   "cell_type": "markdown",
   "id": "f458bfec-f11f-4a56-ae1a-5e634a2a6c75",
   "metadata": {},
   "source": [
    "上の関数では、計算時間は指数関数的に増大する。→もう少し効率的な処理に変更する。\n",
    "n = 5の場合、f(2)を山塊呼び出している。同じ計算を三回するのは無駄。一回目に結果を保存し、二回目以降に利用する場合は保存した結果を返す→キャッシュ化"
   ]
  },
  {
   "cell_type": "code",
   "execution_count": 15,
   "id": "a0a5c4c0-82c9-4f21-80f0-636230760ce7",
   "metadata": {},
   "outputs": [],
   "source": [
    "# 初項を定義\n",
    "cache_dict = {0:0, 1:1}\n",
    "def f3(n):\n",
    "    if n not in cache_dict:\n",
    "        cache_dict[n] = f3(n-1) + f3(n-2)\n",
    "    return cache_dict[n]"
   ]
  },
  {
   "cell_type": "code",
   "execution_count": 26,
   "id": "f191fc3e-778e-4c25-b150-4ef7d88335fa",
   "metadata": {},
   "outputs": [
    {
     "data": {
      "text/plain": [
       "9227465"
      ]
     },
     "execution_count": 26,
     "metadata": {},
     "output_type": "execute_result"
    }
   ],
   "source": [
    "f3(35)"
   ]
  },
  {
   "cell_type": "code",
   "execution_count": 43,
   "id": "958bfc71-f479-4f48-bccb-12b773a3b64e",
   "metadata": {},
   "outputs": [],
   "source": [
    "result_f3 = []\n",
    "for n in range(35):\n",
    "    # キャッシュをクリア\n",
    "    cache_dict = {0:0, 1:1}\n",
    "    result = %timeit -n1 -r1 -o -q f3(n)\n",
    "    result_f3.append(result.best)"
   ]
  },
  {
   "cell_type": "code",
   "execution_count": 44,
   "id": "2dbf83ae-d27a-40b6-8839-415538325d95",
   "metadata": {},
   "outputs": [
    {
     "data": {
      "image/png": "[encoded data removed]",
      "text/plain": [
       "<Figure size 864x576 with 1 Axes>"
      ]
     },
     "metadata": {},
     "output_type": "display_data"
    }
   ],
   "source": [
    "plt.figure(figsize=(12, 8))\n",
    "plt.scatter(range(35), result_f2)\n",
    "plt.scatter(range(35), result_f3)\n",
    "plt.show()"
   ]
  },
  {
   "cell_type": "markdown",
   "id": "c8871826-9189-4d0b-9d1c-126226681bf9",
   "metadata": {},
   "source": [
    "少し工夫するだけで計算量が変わる。計算量=お金になる。アルゴリズムを学ぶ意義。"
   ]
  },
  {
   "cell_type": "markdown",
   "id": "519791d1-e327-4e96-afa7-a92f7ccb32f1",
   "metadata": {},
   "source": [
    "再帰的に実行する場合にキャッシュして計算量を削減したいというニーズは一般的にある。そのため、Pythonでは標準ライブラリとしてキャッシュ化するデコレータが提供されている。"
   ]
  },
  {
   "cell_type": "code",
   "execution_count": 45,
   "id": "bc76761a-6704-4c9b-b433-d293fa8b1917",
   "metadata": {},
   "outputs": [],
   "source": [
    "from functools import lru_cache\n",
    "\n",
    "@lru_cache(maxsize=None)\n",
    "def f4(n):\n",
    "    if n < 2:\n",
    "        return n\n",
    "    return f4(n-1) + f4(n-2)"
   ]
  },
  {
   "cell_type": "code",
   "execution_count": 46,
   "id": "4de2347e-bfd0-454b-9368-8b4c589a0cc0",
   "metadata": {},
   "outputs": [
    {
     "data": {
      "text/plain": [
       "9227465"
      ]
     },
     "execution_count": 46,
     "metadata": {},
     "output_type": "execute_result"
    }
   ],
   "source": [
    "f4(35)"
   ]
  },
  {
   "cell_type": "code",
   "execution_count": 49,
   "id": "ddbb87ce-35c2-4391-b2ff-13b40f9dcae9",
   "metadata": {},
   "outputs": [],
   "source": [
    "result_f4 = []\n",
    "for n in range(35):\n",
    "    cache_dict = {0:0, 1:1}\n",
    "    result = %timeit -n1 -r1 -o -q f3(n)\n",
    "    result_f4.append(result.best)"
   ]
  },
  {
   "cell_type": "code",
   "execution_count": 50,
   "id": "dedadcf6-661d-4818-8a35-bdcbdbbcb160",
   "metadata": {},
   "outputs": [
    {
     "data": {
      "image/png": "[encoded data removed]",
      "text/plain": [
       "<Figure size 864x576 with 1 Axes>"
      ]
     },
     "metadata": {},
     "output_type": "display_data"
    }
   ],
   "source": [
    "plt.figure(figsize=(12, 8))\n",
    "plt.scatter(range(35), result_f3)\n",
    "plt.scatter(range(35), result_f4)\n",
    "plt.show()"
   ]
  },
  {
   "cell_type": "markdown",
   "id": "ae81c7aa-99fa-41ae-ab78-6b7e87d8e2eb",
   "metadata": {},
   "source": [
    "f3とf4は計算時間は同じコード量だが、f4では簡潔に書くことができた。\n",
    "デコレータ@lru_cacth　とは何だろうか。Pythonのデコレータについて考えていく。\n",
    "デコレータとは簡潔に言うと、関数にデコレーションすることでその関数の挙動になんらかの拡張を加えるものである。\n",
    "上の例の場合、f4という関数に対してデコレータ@lru_cacheはキャッシュという拡張を加えている。\n",
    "もっと単純な例を見てみる。"
   ]
  },
  {
   "cell_type": "code",
   "execution_count": 51,
   "id": "a85ec347-1bf5-4566-a2ec-7b7aad1c8228",
   "metadata": {},
   "outputs": [],
   "source": [
    "def deco(func):\n",
    "    def wrapper():\n",
    "        print('--start--')\n",
    "        func()\n",
    "        print('--end--')\n",
    "    return wrapper\n",
    "\n",
    "@deco\n",
    "def deco_test():\n",
    "    print('Hello Decorator')"
   ]
  },
  {
   "cell_type": "code",
   "execution_count": 52,
   "id": "67648648-117b-49c5-af36-8fe778c4688b",
   "metadata": {},
   "outputs": [
    {
     "name": "stdout",
     "output_type": "stream",
     "text": [
      "--start--\n",
      "Hello Decorator\n",
      "--end--\n"
     ]
    }
   ],
   "source": [
    "deco_test()"
   ]
  },
  {
   "cell_type": "markdown",
   "id": "2dadc0fd-e10f-469d-84da-7ad31f4a865b",
   "metadata": {},
   "source": [
    "deco_testを書き換えてみる。"
   ]
  },
  {
   "cell_type": "code",
   "execution_count": 55,
   "id": "36fd612b-5349-451e-b2b5-11cea21afd73",
   "metadata": {},
   "outputs": [],
   "source": [
    "def deco(func):\n",
    "    def wrapper():\n",
    "        print('--start--')\n",
    "        func()\n",
    "        print('--end--')\n",
    "    return wrapper\n",
    "\n",
    "def deco_test():\n",
    "    print('Hello Decorator')\n",
    "    \n",
    "deco_test2 = deco(deco_test)"
   ]
  },
  {
   "cell_type": "code",
   "execution_count": 56,
   "id": "b9b585e7-4b9a-4a50-99a6-1b25e95f2591",
   "metadata": {},
   "outputs": [
    {
     "name": "stdout",
     "output_type": "stream",
     "text": [
      "--start--\n",
      "Hello Decorator\n",
      "--end--\n"
     ]
    }
   ],
   "source": [
    "deco_test2()"
   ]
  },
  {
   "cell_type": "markdown",
   "id": "f01d155e-b384-45e3-9a28-cbb37ac0c2db",
   "metadata": {},
   "source": [
    "## ジェネレータを用いたフィボナッチ数列の生成"
   ]
  },
  {
   "cell_type": "code",
   "execution_count": 17,
   "id": "acb45ca5-56a2-4f66-94ae-58061b922ddb",
   "metadata": {},
   "outputs": [],
   "source": [
    "def f5():\n",
    "    a, b = 0, 1\n",
    "    while 1:\n",
    "        yield b\n",
    "        a, b = b, a+b"
   ]
  },
  {
   "cell_type": "code",
   "execution_count": 20,
   "id": "a34a8a84-b533-4ccd-aa19-510b2852fab5",
   "metadata": {},
   "outputs": [
    {
     "data": {
      "text/plain": [
       "1"
      ]
     },
     "execution_count": 20,
     "metadata": {},
     "output_type": "execute_result"
    }
   ],
   "source": [
    "next(f5())"
   ]
  }
 ],
 "metadata": {
  "kernelspec": {
   "display_name": "Python 3",
   "language": "python",
   "name": "python3"
  },
  "language_info": {
   "codemirror_mode": {
    "name": "ipython",
    "version": 3
   },
   "file_extension": ".py",
   "mimetype": "text/x-python",
   "name": "python",
   "nbconvert_exporter": "python",
   "pygments_lexer": "ipython3",
   "version": "3.8.8"
  }
 },
 "nbformat": 4,
 "nbformat_minor": 5
}
